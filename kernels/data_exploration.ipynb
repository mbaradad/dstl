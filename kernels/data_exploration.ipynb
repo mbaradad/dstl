{
 "cells": [
  {
   "cell_type": "code",
   "execution_count": 4,
   "metadata": {
    "collapsed": true
   },
   "outputs": [
    {
     "data": {
      "text/html": [
       "<div>\n",
       "<table border=\"1\" class=\"dataframe\">\n",
       "  <thead>\n",
       "    <tr style=\"text-align: right;\">\n",
       "      <th></th>\n",
       "      <th>ImageId</th>\n",
       "      <th>ClassType</th>\n",
       "      <th>MultipolygonWKT</th>\n",
       "    </tr>\n",
       "  </thead>\n",
       "  <tbody>\n",
       "    <tr>\n",
       "      <th>0</th>\n",
       "      <td>6040_2_2</td>\n",
       "      <td>1</td>\n",
       "      <td>MULTIPOLYGON EMPTY</td>\n",
       "    </tr>\n",
       "    <tr>\n",
       "      <th>1</th>\n",
       "      <td>6040_2_2</td>\n",
       "      <td>2</td>\n",
       "      <td>MULTIPOLYGON EMPTY</td>\n",
       "    </tr>\n",
       "    <tr>\n",
       "      <th>2</th>\n",
       "      <td>6040_2_2</td>\n",
       "      <td>3</td>\n",
       "      <td>MULTIPOLYGON EMPTY</td>\n",
       "    </tr>\n",
       "    <tr>\n",
       "      <th>3</th>\n",
       "      <td>6040_2_2</td>\n",
       "      <td>4</td>\n",
       "      <td>MULTIPOLYGON (((0.003025 -0.007879000000000001...</td>\n",
       "    </tr>\n",
       "    <tr>\n",
       "      <th>4</th>\n",
       "      <td>6040_2_2</td>\n",
       "      <td>5</td>\n",
       "      <td>MULTIPOLYGON (((0.005311 -0.009044999999999999...</td>\n",
       "    </tr>\n",
       "  </tbody>\n",
       "</table>\n",
       "</div>"
      ],
      "text/plain": [
       "<div>\n",
       "<table border=\"1\" class=\"dataframe\">\n",
       "  <thead>\n",
       "    <tr style=\"text-align: right;\">\n",
       "      <th></th>\n",
       "      <th>ImageId</th>\n",
       "      <th>ClassType</th>\n",
       "      <th>MultipolygonWKT</th>\n",
       "    </tr>\n",
       "  </thead>\n",
       "  <tbody>\n",
       "    <tr>\n",
       "      <th>0</th>\n",
       "      <td>6040_2_2</td>\n",
       "      <td>1</td>\n",
       "      <td>MULTIPOLYGON EMPTY</td>\n",
       "    </tr>\n",
       "    <tr>\n",
       "      <th>1</th>\n",
       "      <td>6040_2_2</td>\n",
       "      <td>2</td>\n",
       "      <td>MULTIPOLYGON EMPTY</td>\n",
       "    </tr>\n",
       "    <tr>\n",
       "      <th>2</th>\n",
       "      <td>6040_2_2</td>\n",
       "      <td>3</td>\n",
       "      <td>MULTIPOLYGON EMPTY</td>\n",
       "    </tr>\n",
       "    <tr>\n",
       "      <th>3</th>\n",
       "      <td>6040_2_2</td>\n",
       "      <td>4</td>\n",
       "      <td>MULTIPOLYGON (((0.003025 -0.007879000000000001...</td>\n",
       "    </tr>\n",
       "    <tr>\n",
       "      <th>4</th>\n",
       "      <td>6040_2_2</td>\n",
       "      <td>5</td>\n",
       "      <td>MULTIPOLYGON (((0.005311 -0.009044999999999999...</td>\n",
       "    </tr>\n",
       "  </tbody>\n",
       "</table>\n",
       "</div>"
      ]
     },
     "execution_count": 4,
     "metadata": {},
     "output_type": "execute_result"
    }
   ],
   "source": [
    "import pandas as pd\n",
    "import numpy as np\n",
    "from shapely.wkt import loads\n",
    "from matplotlib.patches import Polygon\n",
    "import matplotlib.pyplot as plt\n",
    "\n",
    "df = pd.read_csv('../input/train_wkt_v2.csv')\n",
    "df.head()"
   ]
  },
  {
   "cell_type": "code",
   "execution_count": 8,
   "metadata": {},
   "outputs": [
    {
     "data": {
      "text/plain": [
       "array(['6040_2_2', '6120_2_2', '6120_2_0', '6090_2_0', '6040_1_3',\n       '6040_1_0', '6100_1_3', '6010_4_2', '6110_4_0', '6140_3_1',\n       '6110_1_2', '6100_2_3', '6150_2_3', '6160_2_1', '6140_1_2',\n       '6110_3_1', '6010_4_4', '6170_2_4', '6170_4_1', '6170_0_4',\n       '6060_2_3', '6070_2_3'], dtype=object)"
      ]
     },
     "execution_count": 8,
     "metadata": {},
     "output_type": "execute_result"
    }
   ],
   "source": [
    "df['ImageId'].unique()"
   ]
  },
  {
   "cell_type": "code",
   "execution_count": 27,
   "metadata": {
    "collapsed": true
   },
   "outputs": [
    {
     "name": "stdout",
     "output_type": "stream",
     "text": [
      "['6040_2_2' '6120_2_2' '6120_2_0' '6090_2_0' '6040_1_3' '6040_1_0'\n '6100_1_3' '6010_4_2' '6110_4_0' '6140_3_1' '6110_1_2' '6100_2_3'\n '6150_2_3' '6160_2_1' '6140_1_2' '6110_3_1' '6010_4_4' '6170_2_4'\n '6170_4_1' '6170_0_4' '6060_2_3' '6070_2_3']\n"
     ]
    },
    {
     "data": {
      "text/plain": [
       "428"
      ]
     },
     "execution_count": 27,
     "metadata": {},
     "output_type": "execute_result"
    }
   ],
   "source": [
    "df1 = pd.read_csv('../input/grid_sizes.csv')\n",
    "all_images = df1['Unnamed: 0'].unique()\n",
    "df = pd.read_csv('../input/train_wkt_v2.csv')\n",
    "test_images = df['ImageId']\n",
    "print test_images.unique()\n",
    "[x for x in all_images if x not in np.asarray(test_images)]"
   ]
  },
  {
   "cell_type": "code",
   "execution_count": 25,
   "metadata": {},
   "outputs": [
    {
     "data": {
      "text/plain": [
       "numpy.ndarray"
      ]
     },
     "execution_count": 25,
     "metadata": {},
     "output_type": "execute_result"
    }
   ],
   "source": [
    ""
   ]
  },
  {
   "cell_type": "code",
   "execution_count": null,
   "metadata": {},
   "outputs": [],
   "source": [
    ""
   ]
  }
 ],
 "metadata": {
  "kernelspec": {
   "display_name": "Python 2",
   "language": "python",
   "name": "python2"
  },
  "language_info": {
   "codemirror_mode": {
    "name": "ipython",
    "version": 2.0
   },
   "file_extension": ".py",
   "mimetype": "text/x-python",
   "name": "python",
   "nbconvert_exporter": "python",
   "pygments_lexer": "ipython2",
   "version": "2.7.6"
  }
 },
 "nbformat": 4,
 "nbformat_minor": 0
}